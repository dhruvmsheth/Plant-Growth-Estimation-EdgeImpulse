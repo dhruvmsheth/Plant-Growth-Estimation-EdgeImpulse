{
    "cells": [
        {
            "cell_type": "markdown",
            "metadata": {},
            "source": [
                "Download the data - after extracting features through a processing block - so we can train a machine learning model."
            ]
        },
        {
            "cell_type": "code",
            "metadata": {},
            "outputs": [],
            "execution_count": null,
            "source": [
                "import numpy as np\n",
                "import requests\n",
                "\n",
                "API_KEY = 'ei_f48a5b6d34abe5d231841baad96af1035721acb08136437b81d4ae33385aa2a8'\n",
                "\n",
                "def download_data(url):\n",
                "    response = requests.get(url, headers={'x-api-key': API_KEY})\n",
                "    if response.status_code == 200:\n",
                "        return response.content\n",
                "    else:\n",
                "        print(response.content)\n",
                "        raise ConnectionError('Could not download data file')\n",
                "\n",
                "X = download_data('https://studio.edgeimpulse.com/v1/api/41197/training/26/x')\n",
                "Y = download_data('https://studio.edgeimpulse.com/v1/api/41197/training/26/y')\n"
            ]
        },
        {
            "cell_type": "markdown",
            "metadata": {},
            "source": [
                "Store the data in a temporary file, and load it back through Numpy."
            ]
        },
        {
            "cell_type": "code",
            "metadata": {},
            "outputs": [],
            "execution_count": null,
            "source": [
                "with open('x_train.npy', 'wb') as file:\n",
                "    file.write(X)\n",
                "with open('y_train.npy', 'wb') as file:\n",
                "    file.write(Y)\n",
                "X = np.load('x_train.npy')\n",
                "Y = np.load('y_train.npy')[:,0]"
            ]
        },
        {
            "cell_type": "markdown",
            "metadata": {},
            "source": [
                "Define our labels and split the data up in a test and training set:"
            ]
        },
        {
            "cell_type": "code",
            "metadata": {},
            "outputs": [],
            "execution_count": null,
            "source": [
                "import sys, os, random\n",
                "import tensorflow as tf\n",
                "from sklearn.model_selection import train_test_split\n",
                "\n",
                "import logging\n",
                "tf.get_logger().setLevel(logging.ERROR)\n",
                "os.environ['TF_CPP_MIN_LOG_LEVEL'] = '2'\n",
                "\n",
                "# Set random seeds for repeatable results\n",
                "RANDOM_SEED = 3\n",
                "random.seed(RANDOM_SEED)\n",
                "np.random.seed(RANDOM_SEED)\n",
                "tf.random.set_seed(RANDOM_SEED)\n",
                "\n",
                "classes_values = [ \"2.816\", \"5.1145\", \"5.883\", \"5.884\", \"5.962\", \"6.1215\", \"6.254\", \"6.4925\", \"10.971\", \"13.7005\", \"14.8135\", \"14.923\", \"15.237\", \"15.55\", \"18.046\", \"18.285\", \"20.299\", \"20.352\", \"20.66\", \"22.3925\", \"22.816\", \"25.4135\", \"27.124\", \"27.639\", \"27.931\", \"31.7735\", \"32.6745\", \"32.701\", \"33.4165\", \"35.2185\", \"36.0135\", \"36.9145\", \"37.736\", \"39.22\", \"42.188\", \"42.612\", \"42.9565\", \"42.983\", \"43.8045\", \"44.4935\", \"44.5465\", \"44.573\", \"44.785\", \"44.997\", \"46.9315\", \"47.0905\", \"47.9385\", \"49.634\", \"49.926\", \"50.032\", \"50.1645\", \"50.721\", \"50.8535\", \"51.622\", \"51.6485\", \"53.106\", \"53.371\", \"54.192\", \"54.4045\", \"54.749\", \"56.286\", \"58.406\", \"58.724\", \"58.83\", \"58.8565\", \"62.222\", \"62.722\", \"62.8315\", \"62.9375\", \"63.6265\", \"65.295\", \"65.4765\", \"65.587\", \"68.529\", \"68.8205\", \"72.928\", \"74.4385\" ]\n",
                "classes = len(classes_values)\n",
                "\n",
                "Y = tf.keras.utils.to_categorical(Y - 1, classes)\n",
                "\n",
                "X_train, X_test, Y_train, Y_test = train_test_split(X, Y, test_size=0.2, random_state=1)\n",
                "\n",
                "input_length = X_train[0].shape[0]\n",
                "\n",
                "train_dataset = tf.data.Dataset.from_tensor_slices((X_train, Y_train))\n",
                "validation_dataset = tf.data.Dataset.from_tensor_slices((X_test, Y_test))\n",
                "\n",
                "def get_reshape_function(reshape_to):\n",
                "    def reshape(image, label):\n",
                "        return tf.reshape(image, reshape_to), label\n",
                "    return reshape\n",
                "\n",
                "callbacks = []\n"
            ]
        },
        {
            "cell_type": "markdown",
            "metadata": {},
            "source": [
                "Train the model:"
            ]
        },
        {
            "cell_type": "code",
            "metadata": {},
            "outputs": [],
            "execution_count": null,
            "source": [
                "import tensorflow as tf\n",
                "from tensorflow.keras.models import Sequential\n",
                "from tensorflow.keras.layers import Dense, InputLayer, Dropout, Conv1D, Conv2D, Flatten, Reshape, MaxPooling1D, MaxPooling2D, BatchNormalization, TimeDistributed\n",
                "from tensorflow.keras.optimizers import Adam\n",
                "\n",
                "# model architecture\n",
                "model = Sequential()\n",
                "model.add(Conv2D(32, kernel_size=3, activation='relu', kernel_constraint=tf.keras.constraints.MaxNorm(1), padding='same'))\n",
                "model.add(MaxPooling2D(pool_size=2, strides=2, padding='same'))\n",
                "model.add(Conv2D(16, kernel_size=3, activation='relu', kernel_constraint=tf.keras.constraints.MaxNorm(1), padding='same'))\n",
                "model.add(MaxPooling2D(pool_size=2, strides=2, padding='same'))\n",
                "model.add(Flatten())\n",
                "model.add(Dropout(0.25))\n",
                "model.add(Dense(classes, name='y_pred'))\n",
                "\n",
                "# this controls the learning rate\n",
                "opt = Adam(lr=0.005, beta_1=0.9, beta_2=0.999)\n",
                "# This is only required for some input types, e.g. images\n",
                "SPECIFIC_INPUT_SHAPE = (96, 96, 3)\n",
                "train_dataset = train_dataset.map(get_reshape_function(SPECIFIC_INPUT_SHAPE), tf.data.experimental.AUTOTUNE)\n",
                "validation_dataset = validation_dataset.map(get_reshape_function(SPECIFIC_INPUT_SHAPE), tf.data.experimental.AUTOTUNE)\n",
                "# this controls the batch size, or you can manipulate the tf.data.Dataset objects yourself\n",
                "BATCH_SIZE = 32\n",
                "train_dataset = train_dataset.batch(BATCH_SIZE, drop_remainder=False)\n",
                "validation_dataset = validation_dataset.batch(BATCH_SIZE, drop_remainder=False)\n",
                "\n",
                "# train the neural network\n",
                "model.compile(loss='mean_squared_error', optimizer=opt)\n",
                "model.fit(train_dataset, epochs=130, validation_data=validation_dataset, verbose=2, callbacks=callbacks)\n"
            ]
        },
        {
            "cell_type": "code",
            "metadata": {},
            "outputs": [],
            "execution_count": null,
            "source": [
                "# Save the model to disk\n",
                "model.save('saved_model')"
            ]
        },
        {
            "cell_type": "code",
            "execution_count": null,
            "metadata": {},
            "outputs": [],
            "source": []
        }
    ],
    "metadata": {
        "kernelspec": {
            "display_name": "Python 3",
            "language": "python",
            "name": "python3"
        },
        "language_info": {
            "codemirror_mode": {
                "name": "ipython",
                "version": 3
            },
            "file_extension": ".py",
            "mimetype": "text/x-python",
            "name": "python",
            "nbconvert_exporter": "python",
            "pygments_lexer": "ipython3",
            "version": "3.7.3"
        }
    },
    "nbformat": 4,
    "nbformat_minor": 4
}